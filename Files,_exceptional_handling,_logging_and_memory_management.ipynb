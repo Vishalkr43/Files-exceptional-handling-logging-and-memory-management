{
  "nbformat": 4,
  "nbformat_minor": 0,
  "metadata": {
    "colab": {
      "provenance": []
    },
    "kernelspec": {
      "name": "python3",
      "display_name": "Python 3"
    },
    "language_info": {
      "name": "python"
    }
  },
  "cells": [
    {
      "cell_type": "markdown",
      "source": [
        "**Files, exceptional handling, logging and memory management Theory Questions Answer**"
      ],
      "metadata": {
        "id": "Y_CTAoWOSDvx"
      }
    },
    {
      "cell_type": "markdown",
      "source": [
        "1. What is the difference between interpreted and compiled languages?"
      ],
      "metadata": {
        "id": "qqRgPIdVSSR0"
      }
    },
    {
      "cell_type": "markdown",
      "source": [
        "Interpreted languages execute code line by line using an interpreter, e.g., Python. They don’t require a separate compilation step.\n",
        "\n",
        "Compiled languages convert the entire code into machine code using a compiler before execution."
      ],
      "metadata": {
        "id": "C8srOyazSgMV"
      }
    },
    {
      "cell_type": "markdown",
      "source": [
        "2. What is exception handling in Python?"
      ],
      "metadata": {
        "id": "Jy252ZXzSr9g"
      }
    },
    {
      "cell_type": "markdown",
      "source": [
        "Exception handling in Python is a mechanism to handle runtime errors and prevent crashes. It uses try, except, else, and finally blocks to catch and handle exceptions."
      ],
      "metadata": {
        "id": "1qQrISkHSv40"
      }
    },
    {
      "cell_type": "markdown",
      "source": [
        "3. What is the purpose of the finally block in exception handling?"
      ],
      "metadata": {
        "id": "HShhKYxBSzC9"
      }
    },
    {
      "cell_type": "markdown",
      "source": [
        "The finally block ensures that certain code is executed no matter what, whether an exception occurs or not. It is often used for cleanup tasks, such as closing files or releasing resources."
      ],
      "metadata": {
        "id": "w-Z6RNZvS3Oa"
      }
    },
    {
      "cell_type": "markdown",
      "source": [
        "4. What is logging in Python?"
      ],
      "metadata": {
        "id": "BUN_qdQ1S6s1"
      }
    },
    {
      "cell_type": "markdown",
      "source": [
        "Logging in Python provides a way to track events during a program’s execution. It is used for debugging, monitoring, and recording information about program behavior."
      ],
      "metadata": {
        "id": "1KVLd0TwS9wN"
      }
    },
    {
      "cell_type": "markdown",
      "source": [
        "5. What is the significance of the _del_ method in Python?"
      ],
      "metadata": {
        "id": "OV74sn2aTDUX"
      }
    },
    {
      "cell_type": "markdown",
      "source": [
        "The _del_ method is a destructor called when an object is deleted or garbage collected. It’s used to release resources like closing files or network connections."
      ],
      "metadata": {
        "id": "KbDgPJaaTI2T"
      }
    },
    {
      "cell_type": "markdown",
      "source": [
        "6. What is the difference between import and from ... import in Python?"
      ],
      "metadata": {
        "id": "5V3-k7llTMGU"
      }
    },
    {
      "cell_type": "markdown",
      "source": [
        "import module: Imports the entire module. You access its members using the module name (e.g., module.function).\n",
        "\n",
        "from module import name: Imports specific members of a module directly, so you can use them without the module prefix.\n"
      ],
      "metadata": {
        "id": "1wbQiRk-TRi7"
      }
    },
    {
      "cell_type": "markdown",
      "source": [
        "7. How can you handle multiple exceptions in Python?"
      ],
      "metadata": {
        "id": "L5doRObjTW9-"
      }
    },
    {
      "cell_type": "markdown",
      "source": [
        "You can handle multiple exceptions by specifying multiple except blocks or using a single block with a tuple of exceptions."
      ],
      "metadata": {
        "id": "HqDjls5kTaw6"
      }
    },
    {
      "cell_type": "markdown",
      "source": [
        "8. What is the purpose of the with statement when handling files in Python?"
      ],
      "metadata": {
        "id": "BwiiAzCBTptS"
      }
    },
    {
      "cell_type": "markdown",
      "source": [
        "The with statement ensures proper management of resources. When used with files, it automatically closes the file after the block ends, even if exceptions occur."
      ],
      "metadata": {
        "id": "1EFSouu_UCDH"
      }
    },
    {
      "cell_type": "markdown",
      "source": [
        "9. What is the difference between multithreading and multiprocessing?"
      ],
      "metadata": {
        "id": "dS4uyTLCUGw8"
      }
    },
    {
      "cell_type": "markdown",
      "source": [
        "Multithreading: Multiple threads share the same memory space within a single process, suitable for I/O-bound tasks.\n",
        "\n",
        "Multiprocessing: Multiple processes with separate memory spaces, suitable for CPU-bound tasks."
      ],
      "metadata": {
        "id": "7T5u4kYYUKgi"
      }
    },
    {
      "cell_type": "markdown",
      "source": [
        "10. What are the advantages of using logging in a program?"
      ],
      "metadata": {
        "id": "dD0oIG6DUNtR"
      }
    },
    {
      "cell_type": "markdown",
      "source": [
        "Advantages of using logging in a program is to Tracks errors and issues for debugging.\n",
        "\n",
        "Monitors program behavior in production.\n",
        "\n",
        "Saves events for auditing and compliance.\n",
        "\n",
        "Provides a centralized way to handle output across the program.\n"
      ],
      "metadata": {
        "id": "_Ka4oiH0UQ23"
      }
    },
    {
      "cell_type": "markdown",
      "source": [
        "11. What is memory management in Python?"
      ],
      "metadata": {
        "id": "zqk8JzwCUjls"
      }
    },
    {
      "cell_type": "markdown",
      "source": [
        "Memory management in Python involves allocating and deallocating memory for objects. It uses reference counting and garbage collection to reclaim unused memory automatically.\n"
      ],
      "metadata": {
        "id": "Zvv3T3UHUyHw"
      }
    },
    {
      "cell_type": "markdown",
      "source": [
        "12. What are the basic steps involved in exception handling in Python?"
      ],
      "metadata": {
        "id": "AOOz_Py2U_cD"
      }
    },
    {
      "cell_type": "markdown",
      "source": [
        "Steps are\n",
        "1. try: Write the code that might raise exceptions.\n",
        "\n",
        "\n",
        "2. except: Handle specific exceptions or catch all exceptions.\n",
        "\n",
        "\n",
        "3. else: Execute code if no exception occurs.\n",
        "\n",
        "\n",
        "4. finally: Always execute cleanup code."
      ],
      "metadata": {
        "id": "xXlILyR3VF9D"
      }
    },
    {
      "cell_type": "markdown",
      "source": [
        "13. Why is memory management important in Python?\n"
      ],
      "metadata": {
        "id": "qzhaqvnaVPL5"
      }
    },
    {
      "cell_type": "markdown",
      "source": [
        "Memory management prevents memory leaks, optimizes resource usage, and ensures program stability by reclaiming unused memory automatically."
      ],
      "metadata": {
        "id": "9MoRwhnSVWAL"
      }
    },
    {
      "cell_type": "markdown",
      "source": [
        "14. What is the role of try and except in exception handling?"
      ],
      "metadata": {
        "id": "0lUoJnUPVZB-"
      }
    },
    {
      "cell_type": "markdown",
      "source": [
        "try: Wraps the code that might raise an exception.\n",
        "\n",
        "except: Catches and handles specific exceptions raised in the try block."
      ],
      "metadata": {
        "id": "KqKt_D2ZVd5b"
      }
    },
    {
      "cell_type": "markdown",
      "source": [
        "15. How does Python's garbage collection system work?"
      ],
      "metadata": {
        "id": "sFh1D6_vViT8"
      }
    },
    {
      "cell_type": "markdown",
      "source": [
        "Python’s garbage collector uses reference counting and a cyclic garbage collector to free memory. When an object’s reference count drops to zero, it’s automatically deallocated."
      ],
      "metadata": {
        "id": "3-oIr7RwVpEk"
      }
    },
    {
      "cell_type": "markdown",
      "source": [
        "16. What is the purpose of the else block in exception handling?"
      ],
      "metadata": {
        "id": "TF7T84ceVs8R"
      }
    },
    {
      "cell_type": "markdown",
      "source": [
        "The else block executes code only if no exceptions are raised in the try block."
      ],
      "metadata": {
        "id": "1VpO0ptYV0ta"
      }
    },
    {
      "cell_type": "markdown",
      "source": [
        "17. What are the common logging levels in Python?"
      ],
      "metadata": {
        "id": "hkNhqgRjV4jx"
      }
    },
    {
      "cell_type": "markdown",
      "source": [
        "DEBUG: Detailed information for debugging.\n",
        "\n",
        "INFO: Confirmation that things are working as expected.\n",
        "\n",
        "WARNING: Indicates potential issues.\n",
        "\n",
        "ERROR: Indicates serious problems.\n",
        "\n",
        "CRITICAL: Indicates a severe error."
      ],
      "metadata": {
        "id": "NNo5xFF7V_Ha"
      }
    },
    {
      "cell_type": "markdown",
      "source": [
        "18. What is the difference between os.fork() and multiprocessing in Python?"
      ],
      "metadata": {
        "id": "mU8ZtdkCWB3S"
      }
    },
    {
      "cell_type": "markdown",
      "source": [
        "os.fork(): Creates a child process on Unix systems, duplicating the parent process.\n",
        "\n",
        "Multiprocessing: A cross-platform module for spawning processes and managing shared data safely.\n"
      ],
      "metadata": {
        "id": "rhyM-pNtWFu8"
      }
    },
    {
      "cell_type": "markdown",
      "source": [
        "19. What is the importance of closing a file in Python?"
      ],
      "metadata": {
        "id": "tMGRMYn4WIz4"
      }
    },
    {
      "cell_type": "markdown",
      "source": [
        "Closing a file ensures that resources are released and any data written is saved. It prevents data corruption and resource leaks."
      ],
      "metadata": {
        "id": "EHkmpq7JWMg4"
      }
    },
    {
      "cell_type": "markdown",
      "source": [
        "20. What is the difference between file.read() and file.readline() in Python?"
      ],
      "metadata": {
        "id": "vB8GXjZOWQH6"
      }
    },
    {
      "cell_type": "markdown",
      "source": [
        "file.read(): Reads the entire content of the file as a string.\n",
        "\n",
        "file.readline(): Reads a single line from the file.\n"
      ],
      "metadata": {
        "id": "jKy98SIqWU1s"
      }
    },
    {
      "cell_type": "markdown",
      "source": [
        "21. What is the logging module in Python used for?"
      ],
      "metadata": {
        "id": "xOpx1Z1CWZSz"
      }
    },
    {
      "cell_type": "markdown",
      "source": [
        "The logging module is used for recording program execution events, debugging, and creating logs for different levels (e.g., DEBUG, INFO, WARNING)."
      ],
      "metadata": {
        "id": "LKTPUQblWe5G"
      }
    },
    {
      "cell_type": "markdown",
      "source": [
        "22. What is the os module in Python used for in file handling?"
      ],
      "metadata": {
        "id": "5rXKieVbWjdM"
      }
    },
    {
      "cell_type": "markdown",
      "source": [
        "The os module provides functions for interacting with the operating system, such as file and directory operations (e.g., creating, deleting, and renaming files)."
      ],
      "metadata": {
        "id": "nIA8PMavWprQ"
      }
    },
    {
      "cell_type": "markdown",
      "source": [
        "23. What are the challenges associated with memory management in Python?\n"
      ],
      "metadata": {
        "id": "I-ctCZC9Ws3w"
      }
    },
    {
      "cell_type": "markdown",
      "source": [
        "Circular references can delay garbage collection.\n",
        "\n",
        "Overuse of objects may increase memory usage.\n",
        "\n",
        "Managing memory in large applications can still require optimization."
      ],
      "metadata": {
        "id": "uN6Kac9oXDIH"
      }
    },
    {
      "cell_type": "markdown",
      "source": [
        "24. How do you raise an exception manually in Python?"
      ],
      "metadata": {
        "id": "C52FIuFDXRV4"
      }
    },
    {
      "cell_type": "markdown",
      "source": [
        "You can raise an exception using the raise statement, e.g.:\n",
        "\n",
        "raise ValueError(\"Invalid value\")"
      ],
      "metadata": {
        "id": "gQOfccGwXY1X"
      }
    },
    {
      "cell_type": "markdown",
      "source": [
        "25. Why is it important to use multithreading in certain applications?"
      ],
      "metadata": {
        "id": "jFet-URzXrWY"
      }
    },
    {
      "cell_type": "markdown",
      "source": [
        "Multithreading allows concurrent execution of tasks, improving efficiency for I/O-bound tasks like file reading, network communication, or GUI responsiveness."
      ],
      "metadata": {
        "id": "nHSnqhDOXwTP"
      }
    },
    {
      "cell_type": "markdown",
      "source": [
        "**Files, exceptional handling, logging and memory management Practical Questions Answer**"
      ],
      "metadata": {
        "id": "RBg1sVtNX45w"
      }
    },
    {
      "cell_type": "markdown",
      "source": [
        "1. How can you open a file for writing in Python and write a string to it?"
      ],
      "metadata": {
        "id": "VvCMj4gaYGkq"
      }
    },
    {
      "cell_type": "code",
      "source": [
        "with open(\"file.txt\", \"w\") as file:\n",
        "    file.write(\"Hello, world!\")"
      ],
      "metadata": {
        "id": "yZwqGnFyZx2L"
      },
      "execution_count": 8,
      "outputs": []
    },
    {
      "cell_type": "markdown",
      "source": [
        "2. Write a Python program to read the contents of a file and print each line."
      ],
      "metadata": {
        "id": "tLizzYZAX1w4"
      }
    },
    {
      "cell_type": "code",
      "source": [
        "with open(\"file.txt\", \"r\") as file:\n",
        "    for line in file:\n",
        "        print(line.strip())"
      ],
      "metadata": {
        "colab": {
          "base_uri": "https://localhost:8080/"
        },
        "id": "ParbRkPVaSBr",
        "outputId": "8f92d847-6b51-4f31-d3f8-407e1186d719"
      },
      "execution_count": 9,
      "outputs": [
        {
          "output_type": "stream",
          "name": "stdout",
          "text": [
            "Hello, world!\n"
          ]
        }
      ]
    },
    {
      "cell_type": "markdown",
      "source": [
        "3. How would you handle a case where the file doesn’t exist while trying to open it for reading?"
      ],
      "metadata": {
        "id": "EFn6qzqVWv-g"
      }
    },
    {
      "cell_type": "code",
      "source": [
        "#using a try-except block to catch the FileNotFoundError:\n",
        "\n",
        "try:\n",
        "    with open(\"nonexistent_file.txt\", \"r\") as file:\n",
        "        content = file.read()\n",
        "except FileNotFoundError:\n",
        "    print(\"The file does not exist.\")"
      ],
      "metadata": {
        "colab": {
          "base_uri": "https://localhost:8080/"
        },
        "id": "kDDN4nCLamdt",
        "outputId": "fcac50cc-2450-429a-8ac0-827174953fbe"
      },
      "execution_count": 10,
      "outputs": [
        {
          "output_type": "stream",
          "name": "stdout",
          "text": [
            "The file does not exist.\n"
          ]
        }
      ]
    },
    {
      "cell_type": "markdown",
      "source": [
        "4. Write a Python script that reads from one file and writes its content to another file."
      ],
      "metadata": {
        "id": "GZe4JPONazlw"
      }
    },
    {
      "cell_type": "code",
      "source": [
        "with open(\"source.txt\", \"r\") as source,\n",
        "open(\"destination.txt\", \"w\") as destination:\n",
        "    content = source.read()\n",
        "    destination.write(content)\n"
      ],
      "metadata": {
        "id": "DKLU2HG6bUKa"
      },
      "execution_count": null,
      "outputs": []
    },
    {
      "cell_type": "markdown",
      "source": [
        "5. How would you catch and handle division by zero error in Python?"
      ],
      "metadata": {
        "id": "YTgYRzJ2bYXZ"
      }
    },
    {
      "cell_type": "code",
      "source": [
        "try:\n",
        "    result = 10 / 0\n",
        "except ZeroDivisionError:\n",
        "    print(\"Division by zero is not allowed.\")"
      ],
      "metadata": {
        "colab": {
          "base_uri": "https://localhost:8080/"
        },
        "id": "JJEtZm3rbc7l",
        "outputId": "332aa9a5-0e45-4d56-db23-0d358a13ce6f"
      },
      "execution_count": 18,
      "outputs": [
        {
          "output_type": "stream",
          "name": "stdout",
          "text": [
            "Division by zero is not allowed.\n"
          ]
        }
      ]
    },
    {
      "cell_type": "markdown",
      "source": [
        "6. Write a Python program that logs an error message to a log file when a division by zero exception occurs."
      ],
      "metadata": {
        "id": "mjW1URl5bm1B"
      }
    },
    {
      "cell_type": "code",
      "source": [
        "import logging\n",
        "\n",
        "logging.basicConfig(filename=\"error.log\", level=logging.ERROR)\n",
        "\n",
        "try:\n",
        "    result = 10 / 0\n",
        "except ZeroDivisionError as e:\n",
        "    logging.error(\"Division by zero occurred: %s\", e)"
      ],
      "metadata": {
        "colab": {
          "base_uri": "https://localhost:8080/"
        },
        "id": "ctwFSyq1bqrK",
        "outputId": "2c0ba72e-45ed-4ce1-fef7-ee949a3b178b"
      },
      "execution_count": 19,
      "outputs": [
        {
          "output_type": "stream",
          "name": "stderr",
          "text": [
            "ERROR:root:Division by zero occurred: division by zero\n"
          ]
        }
      ]
    },
    {
      "cell_type": "markdown",
      "source": [
        "7. How do you log information at different levels (INFO, ERROR, WARNING) in Python using the logging module?"
      ],
      "metadata": {
        "id": "_qyuWYDGbzwK"
      }
    },
    {
      "cell_type": "code",
      "source": [
        "import logging\n",
        "\n",
        "logging.basicConfig(level=logging.DEBUG)\n",
        "\n",
        "logging.info(\"This is an info message.\")\n",
        "logging.warning(\"This is a warning message.\")\n",
        "logging.error(\"This is an error message.\")"
      ],
      "metadata": {
        "colab": {
          "base_uri": "https://localhost:8080/"
        },
        "id": "prfXqwG7b4LJ",
        "outputId": "a781468d-20ac-438e-910b-6950223a14b6"
      },
      "execution_count": 20,
      "outputs": [
        {
          "output_type": "stream",
          "name": "stderr",
          "text": [
            "WARNING:root:This is a warning message.\n",
            "ERROR:root:This is an error message.\n"
          ]
        }
      ]
    },
    {
      "cell_type": "markdown",
      "source": [
        "8. Write a program to handle a file opening error using exception handling."
      ],
      "metadata": {
        "id": "LRSeiZYFb-M9"
      }
    },
    {
      "cell_type": "code",
      "source": [
        "try:\n",
        "    with open(\"file.txt\", \"r\") as file:\n",
        "        content = file.read()\n",
        "except FileNotFoundError:\n",
        "    print(\"File not found.\")"
      ],
      "metadata": {
        "id": "MNTCwYewcEA_"
      },
      "execution_count": 22,
      "outputs": []
    },
    {
      "cell_type": "markdown",
      "source": [
        "9. How can you read a file line by line and store its content in a list in Python?"
      ],
      "metadata": {
        "id": "QXQPJ5A3cMGc"
      }
    },
    {
      "cell_type": "code",
      "source": [
        "with open(\"file.txt\", \"r\") as file:\n",
        "    lines = [line.strip() for line in file]\n",
        "print(lines)"
      ],
      "metadata": {
        "colab": {
          "base_uri": "https://localhost:8080/"
        },
        "id": "m4bIJb59cPVi",
        "outputId": "3be6f936-95b4-402e-e737-a731e613092a"
      },
      "execution_count": 23,
      "outputs": [
        {
          "output_type": "stream",
          "name": "stdout",
          "text": [
            "['Hello, world!']\n"
          ]
        }
      ]
    },
    {
      "cell_type": "markdown",
      "source": [
        "10. How can you append data to an existing file in Python?"
      ],
      "metadata": {
        "id": "CSKSeeCBcT9V"
      }
    },
    {
      "cell_type": "code",
      "source": [
        "#Use the mode 'a' (append mode):\n",
        "\n",
        "with open(\"file.txt\", \"a\") as file:\n",
        "    file.write(\"Appending new data.\\n\")"
      ],
      "metadata": {
        "id": "d-gZTdxGcYbf"
      },
      "execution_count": 26,
      "outputs": []
    },
    {
      "cell_type": "markdown",
      "source": [
        "11. Write a Python program that uses a try-except block to handle an error when attempting to access a dictionary key that doesn’t exist."
      ],
      "metadata": {
        "id": "8K0NJhhFciRn"
      }
    },
    {
      "cell_type": "code",
      "source": [
        "try:\n",
        "    my_dict = {\"key1\": \"value1\"}\n",
        "    print(my_dict[\"key2\"])\n",
        "except KeyError:\n",
        "    print(\"Key does not exist.\")"
      ],
      "metadata": {
        "colab": {
          "base_uri": "https://localhost:8080/"
        },
        "id": "07m30ypscoBu",
        "outputId": "7c654359-4a5b-4730-f7db-606a8adc3267"
      },
      "execution_count": 27,
      "outputs": [
        {
          "output_type": "stream",
          "name": "stdout",
          "text": [
            "Key does not exist.\n"
          ]
        }
      ]
    },
    {
      "cell_type": "markdown",
      "source": [
        "12. Write a program that demonstrates using multiple except blocks to handle different types of exceptions."
      ],
      "metadata": {
        "id": "asfYJwUlcsfZ"
      }
    },
    {
      "cell_type": "code",
      "source": [
        "try:\n",
        "    result = 10 / 0\n",
        "    my_list = [1, 2, 3]\n",
        "    print(my_list[5])\n",
        "except ZeroDivisionError:\n",
        "    print(\"Division by zero error.\")\n",
        "except IndexError:\n",
        "    print(\"Index out of range.\")"
      ],
      "metadata": {
        "colab": {
          "base_uri": "https://localhost:8080/"
        },
        "id": "WXW3mT4scxD0",
        "outputId": "886238a8-1a18-49c9-9266-7f7eb7dea786"
      },
      "execution_count": 28,
      "outputs": [
        {
          "output_type": "stream",
          "name": "stdout",
          "text": [
            "Division by zero error.\n"
          ]
        }
      ]
    },
    {
      "cell_type": "markdown",
      "source": [
        "13. How would you check if a file exists before attempting to read it in Python?"
      ],
      "metadata": {
        "id": "m3JSI6JRc1VP"
      }
    },
    {
      "cell_type": "code",
      "source": [
        "#Use the os.path.exists() function:\n",
        "\n",
        "import os\n",
        "\n",
        "if os.path.exists(\"file.txt\"):\n",
        "    with open(\"file.txt\", \"r\") as file:\n",
        "        content = file.read()\n",
        "else:\n",
        "    print(\"File does not exist.\")"
      ],
      "metadata": {
        "id": "Qo_z9_kxc4m6"
      },
      "execution_count": 33,
      "outputs": []
    },
    {
      "cell_type": "markdown",
      "source": [
        "14. Write a program that uses the logging module to log both informational and error messages."
      ],
      "metadata": {
        "id": "_oa9-OzidHFF"
      }
    },
    {
      "cell_type": "code",
      "source": [
        "import logging\n",
        "\n",
        "logging.basicConfig(filename=\"logfile.log\", level=logging.INFO)\n",
        "\n",
        "try:\n",
        "    result = 10 / 0\n",
        "except ZeroDivisionError as e:\n",
        "    logging.error(\"An error occurred: %s\", e)\n",
        "else:\n",
        "    logging.info(\"Operation successful.\")"
      ],
      "metadata": {
        "colab": {
          "base_uri": "https://localhost:8080/"
        },
        "id": "lYfqF9IsdKvL",
        "outputId": "beb7132e-074a-483c-edb8-fc82ae6eb435"
      },
      "execution_count": 34,
      "outputs": [
        {
          "output_type": "stream",
          "name": "stderr",
          "text": [
            "ERROR:root:An error occurred: division by zero\n"
          ]
        }
      ]
    },
    {
      "cell_type": "markdown",
      "source": [
        "15. Write a Python program that prints the content of a file and handles the case when the file is empty."
      ],
      "metadata": {
        "id": "_XcYos9xdnvK"
      }
    },
    {
      "cell_type": "code",
      "source": [
        "try:\n",
        "    with open(\"file.txt\", \"r\") as file:\n",
        "        content = file.read()\n",
        "        if not content:\n",
        "            print(\"The file is empty.\")\n",
        "        else:\n",
        "            print(content)\n",
        "except FileNotFoundError:\n",
        "    print(\"File not found.\")"
      ],
      "metadata": {
        "colab": {
          "base_uri": "https://localhost:8080/"
        },
        "id": "j-2CKR-vdpiL",
        "outputId": "229f7640-c032-4a6f-ad5a-a17a8664d3d3"
      },
      "execution_count": 35,
      "outputs": [
        {
          "output_type": "stream",
          "name": "stdout",
          "text": [
            "Hello, world!Appending new data.\n",
            "Appending new data.\n",
            "\n"
          ]
        }
      ]
    },
    {
      "cell_type": "markdown",
      "source": [
        "16. Demonstrate how to use memory profiling to check the memory usage of a small program."
      ],
      "metadata": {
        "id": "JhUEtaVAdwIq"
      }
    },
    {
      "cell_type": "markdown",
      "source": [
        "Use the memory_profiler module:\n",
        "\n",
        "from memory_profiler import profile\n",
        "\n",
        "@profile\n",
        "def memory_usage():\n",
        "    my_list = [i for i in range(10000)]\n",
        "    return sum(my_list)\n"
      ],
      "metadata": {
        "id": "3BfhGbLheBC7"
      }
    },
    {
      "cell_type": "markdown",
      "source": [
        "17. Write a Python program to create and write the first 10 numbers to a file, one number per line."
      ],
      "metadata": {
        "id": "j7fxDcHBeC2b"
      }
    },
    {
      "cell_type": "code",
      "source": [
        "with open(\"numbers.txt\", \"w\") as file:\n",
        "    for i in range(1, 11):\n",
        "        file.write(f\"{i}\\n\")\n"
      ],
      "metadata": {
        "id": "YOuoM75qeM-x"
      },
      "execution_count": 39,
      "outputs": []
    },
    {
      "cell_type": "markdown",
      "source": [
        "18. How would you implement a basic logging setup that logs to a file with rotation after 1MB?"
      ],
      "metadata": {
        "id": "XQewv6HveRyy"
      }
    },
    {
      "cell_type": "markdown",
      "source": [
        "Use the Rotating File Handler from the logging module:\n",
        "\n",
        "import logging\n",
        "from logging.handlers import RotatingFileHandler\n",
        "\n",
        "handler = RotatingFileHandler(\"app.log\", maxBytes=1_000_000, backupCount=5)\n",
        "logging.basicConfig(handlers=[handler], level=logging.INFO)\n",
        "\n",
        "logging.info(\"This is a log message.\")"
      ],
      "metadata": {
        "id": "jGVGkf10eZjL"
      }
    },
    {
      "cell_type": "markdown",
      "source": [
        "19. Write a program that handles both IndexError and KeyError using a try-except block."
      ],
      "metadata": {
        "id": "BOLW4j_Ueaqt"
      }
    },
    {
      "cell_type": "code",
      "source": [
        "try:\n",
        "    my_list = [1, 2, 3]\n",
        "    print(my_list[5])\n",
        "    my_dict = {\"key1\": \"value1\"}\n",
        "    print(my_dict[\"key2\"])\n",
        "except IndexError:\n",
        "    print(\"Index out of range.\")\n",
        "except KeyError:\n",
        "    print(\"Key does not exist.\")"
      ],
      "metadata": {
        "colab": {
          "base_uri": "https://localhost:8080/"
        },
        "id": "YjZHd8mVelxg",
        "outputId": "2d76d742-182a-44d7-a75b-a36db561dc95"
      },
      "execution_count": 41,
      "outputs": [
        {
          "output_type": "stream",
          "name": "stdout",
          "text": [
            "Index out of range.\n"
          ]
        }
      ]
    },
    {
      "cell_type": "markdown",
      "source": [
        "20. How would you open a file and read its contents using a context manager in Python?"
      ],
      "metadata": {
        "id": "gSaUkOF1etru"
      }
    },
    {
      "cell_type": "code",
      "source": [
        "with open(\"file.txt\", \"r\") as file:\n",
        "    content = file.read()\n",
        "    print(content)\n"
      ],
      "metadata": {
        "colab": {
          "base_uri": "https://localhost:8080/"
        },
        "id": "V43PBWsaew1m",
        "outputId": "bcb21e0a-19e0-4cd4-c207-d708a149c13b"
      },
      "execution_count": 42,
      "outputs": [
        {
          "output_type": "stream",
          "name": "stdout",
          "text": [
            "Hello, world!Appending new data.\n",
            "Appending new data.\n",
            "\n"
          ]
        }
      ]
    },
    {
      "cell_type": "markdown",
      "source": [
        "21. Write a Python program that reads a file and prints the number of occurrences of a specific word."
      ],
      "metadata": {
        "id": "kH6qXEBle0zA"
      }
    },
    {
      "cell_type": "code",
      "source": [
        "word_to_count = \"example\"\n",
        "with open(\"file.txt\", \"r\") as file:\n",
        "    content = file.read()\n",
        "    count = content.split().count(word_to_count)\n",
        "print(f\"The word '{word_to_count}' occurs {count} times.\")"
      ],
      "metadata": {
        "colab": {
          "base_uri": "https://localhost:8080/"
        },
        "id": "SsP6RnJie3tz",
        "outputId": "b1a23717-8f38-478a-884d-3a2837323429"
      },
      "execution_count": 43,
      "outputs": [
        {
          "output_type": "stream",
          "name": "stdout",
          "text": [
            "The word 'example' occurs 0 times.\n"
          ]
        }
      ]
    },
    {
      "cell_type": "markdown",
      "source": [
        "22. How can you check if a file is empty before attempting to read its contents?"
      ],
      "metadata": {
        "id": "FlPTODake-6B"
      }
    },
    {
      "cell_type": "code",
      "source": [
        "import os\n",
        "\n",
        "if os.path.exists(\"file.txt\") and os.path.getsize(\"file.txt\") > 0:\n",
        "    with open(\"file.txt\", \"r\") as file:\n",
        "        content = file.read()\n",
        "        print(content)\n",
        "else:\n",
        "    print(\"The file is empty.\")"
      ],
      "metadata": {
        "colab": {
          "base_uri": "https://localhost:8080/"
        },
        "id": "ORJyagxzfCkp",
        "outputId": "53627ad1-4ca1-43e4-ae1e-1f895d9041ad"
      },
      "execution_count": 44,
      "outputs": [
        {
          "output_type": "stream",
          "name": "stdout",
          "text": [
            "Hello, world!Appending new data.\n",
            "Appending new data.\n",
            "\n"
          ]
        }
      ]
    },
    {
      "cell_type": "markdown",
      "source": [
        "23. Write a Python program that writes to a log file when an error occurs during file handling."
      ],
      "metadata": {
        "id": "sLOuz_BYfGZm"
      }
    },
    {
      "cell_type": "code",
      "source": [
        "import logging\n",
        "\n",
        "logging.basicConfig(filename=\"error.log\", level=logging.ERROR)\n",
        "\n",
        "try:\n",
        "    with open(\"nonexistent_file.txt\", \"r\") as file:\n",
        "        content = file.read()\n",
        "except FileNotFoundError as e:\n",
        "    logging.error(\"File handling error: %s\", e)"
      ],
      "metadata": {
        "colab": {
          "base_uri": "https://localhost:8080/"
        },
        "id": "mCn4vyRcfJcm",
        "outputId": "4068afae-5a5a-439f-e53a-3ebd08947152"
      },
      "execution_count": 45,
      "outputs": [
        {
          "output_type": "stream",
          "name": "stderr",
          "text": [
            "ERROR:root:File handling error: [Errno 2] No such file or directory: 'nonexistent_file.txt'\n"
          ]
        }
      ]
    }
  ]
}